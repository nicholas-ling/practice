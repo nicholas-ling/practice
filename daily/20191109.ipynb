{
 "cells": [
  {
   "cell_type": "code",
   "execution_count": 35,
   "metadata": {},
   "outputs": [],
   "source": [
    "def rec(a, val, b, e, is_sorted):\n",
    "    if not valid(b, a) or not valid(e, a):\n",
    "        return -1\n",
    "    if b == e:\n",
    "        if a[b] == val:\n",
    "            return b\n",
    "        else:\n",
    "            return -1\n",
    "        \n",
    "    m = (b+e)//2\n",
    "    if a[m] == val:\n",
    "        return m\n",
    "    if is_sorted:\n",
    "        if a[m]>val and valid(m-1, a):\n",
    "            return rec(a, val, b, m-1, True)\n",
    "        elif a[m]<val and valid(m+1, a):\n",
    "            return rec(a, val, m+1, e, True)\n",
    "        else:\n",
    "            return -1\n",
    "    else:\n",
    "        if (valid(m-1, a) and a[m]<a[m-1]) or (valid(m+1, a) and a[m]>a[m+1]):\n",
    "            l = rec(a, val, b, m-1, True)\n",
    "            r = rec(a, val, m+1, e, True)\n",
    "            return select(l, r)\n",
    "        elif (valid(m-1, a) and a[m]>a[m-1]) or (valid(m+1, a) and a[m]<a[m+1]):\n",
    "            l = rec(a, val, b, m-1, False)\n",
    "            r = rec(a, val, m+1, e, False)\n",
    "            return select(l, r)\n",
    "        else:\n",
    "            return -1\n",
    "    \n",
    "def valid(val, a):\n",
    "    return 0<=val<len(a)\n",
    "\n",
    "def select(l, r):\n",
    "    if l != -1:\n",
    "        return l\n",
    "    elif r!=-1:\n",
    "        return r\n",
    "    else:\n",
    "        return -1"
   ]
  },
  {
   "cell_type": "code",
   "execution_count": 36,
   "metadata": {},
   "outputs": [
    {
     "name": "stdout",
     "output_type": "stream",
     "text": [
      "4\n"
     ]
    }
   ],
   "source": [
    "print(rec([13, 18, 25, 2, 8, 10], 8, 0, 5, False))"
   ]
  },
  {
   "cell_type": "code",
   "execution_count": null,
   "metadata": {},
   "outputs": [],
   "source": []
  }
 ],
 "metadata": {
  "kernelspec": {
   "display_name": "Python 3",
   "language": "python",
   "name": "python3"
  },
  "language_info": {
   "codemirror_mode": {
    "name": "ipython",
    "version": 3
   },
   "file_extension": ".py",
   "mimetype": "text/x-python",
   "name": "python",
   "nbconvert_exporter": "python",
   "pygments_lexer": "ipython3",
   "version": "3.7.2"
  }
 },
 "nbformat": 4,
 "nbformat_minor": 2
}
