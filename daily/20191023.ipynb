{
 "cells": [
  {
   "cell_type": "code",
   "execution_count": 92,
   "metadata": {},
   "outputs": [],
   "source": [
    "import copy\n",
    "\n",
    "def edges(flights):\n",
    "    ret = {}\n",
    "    for _, (a, b) in enumerate(flights):\n",
    "        if a in ret:\n",
    "            ret[a].add(b)\n",
    "        else:\n",
    "            ret[a] = {b}\n",
    "    for k,v in ret.items():\n",
    "        ret[k] = set(sorted(v))\n",
    "    return ret\n",
    "\n",
    "def rest_edges(edges, edge):\n",
    "    a, b = edge\n",
    "    ret = copy.deepcopy(edges)\n",
    "    ret[a].remove(b)\n",
    "    return ret\n",
    "\n",
    "def is_empty(edges):\n",
    "    for value in edges.values():\n",
    "        if len(value)>0:\n",
    "            return False\n",
    "    return True\n",
    "\n",
    "def dfs(edges, start):\n",
    "    if is_empty(edges):\n",
    "        return [start]\n",
    "    if start not in edges:\n",
    "        return None\n",
    "    for end in edges[start]:\n",
    "        rest = dfs(rest_edges(edges, (start, end)), end)\n",
    "        if rest is not None:\n",
    "            return [start] + rest\n",
    "    return None"
   ]
  },
  {
   "cell_type": "code",
   "execution_count": 94,
   "metadata": {},
   "outputs": [
    {
     "name": "stdout",
     "output_type": "stream",
     "text": [
      "['YUL', 'YYZ', 'SFO', 'HKO', 'ORD']\n"
     ]
    }
   ],
   "source": [
    "e = edges([('SFO', 'HKO'), ('YYZ', 'SFO'), ('YUL', 'YYZ'), ('HKO', 'ORD')])\n",
    "print(dfs(e, 'YUL'))\n",
    "\n"
   ]
  },
  {
   "cell_type": "code",
   "execution_count": null,
   "metadata": {},
   "outputs": [],
   "source": []
  },
  {
   "cell_type": "code",
   "execution_count": null,
   "metadata": {},
   "outputs": [],
   "source": []
  }
 ],
 "metadata": {
  "kernelspec": {
   "display_name": "Python 3",
   "language": "python",
   "name": "python3"
  },
  "language_info": {
   "codemirror_mode": {
    "name": "ipython",
    "version": 3
   },
   "file_extension": ".py",
   "mimetype": "text/x-python",
   "name": "python",
   "nbconvert_exporter": "python",
   "pygments_lexer": "ipython3",
   "version": "3.7.2"
  }
 },
 "nbformat": 4,
 "nbformat_minor": 2
}
