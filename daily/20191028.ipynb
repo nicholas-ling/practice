{
 "cells": [
  {
   "cell_type": "code",
   "execution_count": 60,
   "metadata": {},
   "outputs": [
    {
     "data": {
      "text/plain": [
       "[[1, 0, 0, 0, 0, 0, 0],\n",
       " [9, 1, 0, 1, 0, 1, 0],\n",
       " [9, 9, 1, 0, 1, 0, 0],\n",
       " [9, 9, 9, 1, 0, 1, 0],\n",
       " [9, 9, 9, 9, 1, 0, 0],\n",
       " [9, 9, 9, 9, 9, 1, 0],\n",
       " [9, 9, 9, 9, 9, 9, 1]]"
      ]
     },
     "execution_count": 60,
     "metadata": {},
     "output_type": "execute_result"
    }
   ],
   "source": [
    "def dp(word):\n",
    "    l = len(word)\n",
    "    arr = [[9 for x in range(l)] for y in range(l)]\n",
    "    for i in range(l):\n",
    "        for j in range(l-i):\n",
    "            row, col = j, i+j\n",
    "            if row == col:\n",
    "                arr[row][col] = 1\n",
    "            elif abs(row-col) == 1 and word[row] == word[col]:\n",
    "                arr[row][col] = 1\n",
    "            elif arr[row+1][col-1] == 1 and word[row] == word[col]:\n",
    "                arr[row][col] = 1\n",
    "            else:\n",
    "                arr[row][col] = 0\n",
    "    return arr\n",
    "dp('bananas')"
   ]
  },
  {
   "cell_type": "code",
   "execution_count": 49,
   "metadata": {},
   "outputs": [
    {
     "data": {
      "text/plain": [
       "4"
      ]
     },
     "execution_count": 49,
     "metadata": {},
     "output_type": "execute_result"
    }
   ],
   "source": []
  },
  {
   "cell_type": "code",
   "execution_count": null,
   "metadata": {},
   "outputs": [],
   "source": []
  }
 ],
 "metadata": {
  "kernelspec": {
   "display_name": "Python 3",
   "language": "python",
   "name": "python3"
  },
  "language_info": {
   "codemirror_mode": {
    "name": "ipython",
    "version": 3
   },
   "file_extension": ".py",
   "mimetype": "text/x-python",
   "name": "python",
   "nbconvert_exporter": "python",
   "pygments_lexer": "ipython3",
   "version": "3.7.2"
  }
 },
 "nbformat": 4,
 "nbformat_minor": 2
}
