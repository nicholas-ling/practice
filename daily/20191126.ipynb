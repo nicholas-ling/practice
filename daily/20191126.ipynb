{
 "cells": [
  {
   "cell_type": "code",
   "execution_count": 30,
   "metadata": {},
   "outputs": [
    {
     "data": {
      "text/plain": [
       "6"
      ]
     },
     "execution_count": 30,
     "metadata": {},
     "output_type": "execute_result"
    }
   ],
   "source": [
    "import math\n",
    "from collections import defaultdict\n",
    "\n",
    "def bt(arr, level, l, last, cache):\n",
    "    if cache[(level, l, last)]:\n",
    "        return cache[(level, l, last)]\n",
    "    if level>=len(arr)-1:\n",
    "        return l\n",
    "    select = -math.inf\n",
    "    if arr[level+1] >= last:\n",
    "        select = bt(arr, level+1, l+1, arr[level+1], cache)\n",
    "    unselect = bt(arr, level+1, l, last, cache)\n",
    "    ret = max(select, unselect)\n",
    "    cache[(level, l, last)] = ret\n",
    "    return ret\n",
    "\n",
    "cache = defaultdict(int)\n",
    "arr = [0, 8, 4, 12, 2, 10, 6, 14, 1, 9, 5, 13, 3, 11, 7, 15]\n",
    "bt(arr, -1, 0, -math.inf, cache)"
   ]
  },
  {
   "cell_type": "code",
   "execution_count": null,
   "metadata": {},
   "outputs": [],
   "source": []
  }
 ],
 "metadata": {
  "kernelspec": {
   "display_name": "Python 3",
   "language": "python",
   "name": "python3"
  },
  "language_info": {
   "codemirror_mode": {
    "name": "ipython",
    "version": 3
   },
   "file_extension": ".py",
   "mimetype": "text/x-python",
   "name": "python",
   "nbconvert_exporter": "python",
   "pygments_lexer": "ipython3",
   "version": "3.7.2"
  }
 },
 "nbformat": 4,
 "nbformat_minor": 2
}
