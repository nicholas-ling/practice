{
 "cells": [
  {
   "cell_type": "code",
   "execution_count": 35,
   "metadata": {},
   "outputs": [
    {
     "data": {
      "text/plain": [
       "[4, 3, 2, 1]"
      ]
     },
     "execution_count": 35,
     "metadata": {},
     "output_type": "execute_result"
    }
   ],
   "source": [
    "class Node:\n",
    "    def __init__(self, val):\n",
    "        self.val = val\n",
    "        self.nxt = None\n",
    "\n",
    "def revert(head):\n",
    "    if head == None:\n",
    "        return None\n",
    "    pre, crt, nxt = None, head, head.nxt\n",
    "    while nxt is not None:\n",
    "        crt.nxt = pre\n",
    "        pre, crt, nxt = crt, nxt, nxt.nxt\n",
    "    crt.nxt = pre\n",
    "    return crt\n",
    "\n",
    "def show(head):\n",
    "    arr = []\n",
    "    node = head\n",
    "    while node is not None:\n",
    "        arr.append(node.val)\n",
    "        node = node.nxt\n",
    "    return arr\n",
    "\n",
    "head = Node(1)\n",
    "head.nxt = Node(2)\n",
    "head.nxt.nxt = Node(3)\n",
    "head.nxt.nxt.nxt = Node(4)\n",
    "\n",
    "show(revert(head))"
   ]
  },
  {
   "cell_type": "code",
   "execution_count": null,
   "metadata": {},
   "outputs": [],
   "source": []
  },
  {
   "cell_type": "code",
   "execution_count": null,
   "metadata": {},
   "outputs": [],
   "source": []
  }
 ],
 "metadata": {
  "kernelspec": {
   "display_name": "Python 3",
   "language": "python",
   "name": "python3"
  },
  "language_info": {
   "codemirror_mode": {
    "name": "ipython",
    "version": 3
   },
   "file_extension": ".py",
   "mimetype": "text/x-python",
   "name": "python",
   "nbconvert_exporter": "python",
   "pygments_lexer": "ipython3",
   "version": "3.7.2"
  }
 },
 "nbformat": 4,
 "nbformat_minor": 2
}
