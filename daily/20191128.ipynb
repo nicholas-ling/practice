{
 "cells": [
  {
   "cell_type": "code",
   "execution_count": 24,
   "metadata": {},
   "outputs": [
    {
     "data": {
      "text/plain": [
       "[(1, 3), (4, 10), (20, 25), (28, 100)]"
      ]
     },
     "execution_count": 24,
     "metadata": {},
     "output_type": "execute_result"
    }
   ],
   "source": [
    "def partition(arr, b, e):\n",
    "    if b > e:\n",
    "        return []\n",
    "    elif b == e:\n",
    "        return [arr[b]]\n",
    "    m = (b+e)//2\n",
    "    l = partition(arr, b, m)\n",
    "    r = partition(arr, m+1, e)\n",
    "    return merge(l, r)\n",
    "\n",
    "def merge(l, r):\n",
    "    i,j,ret = 0,0,[]\n",
    "    while i<len(l) or j<len(r):\n",
    "        if i>=len(l):\n",
    "            m(ret, r[j])\n",
    "            j+=1\n",
    "        elif j>=len(r):\n",
    "            m(ret, l[i])\n",
    "            i+=1  \n",
    "        elif l[i][0]<=r[j][0]:\n",
    "            m(ret, l[i])\n",
    "            i+=1\n",
    "        else:\n",
    "            m(ret, r[j])\n",
    "            j+=1\n",
    "    return ret\n",
    "\n",
    "def m(ret, interval):\n",
    "    if not ret:\n",
    "        ret.append(interval)\n",
    "    il, ir = interval\n",
    "    ll, lr = ret[-1]\n",
    "    if il>lr:\n",
    "        ret.append(interval)\n",
    "    else:\n",
    "        ret[-1] = (ll, max(lr, ir))\n",
    "        \n",
    "        \n",
    "partition([(1, 3), (5, 8), (4, 10), (20, 25),(28,100)], 0, 4)"
   ]
  },
  {
   "cell_type": "code",
   "execution_count": null,
   "metadata": {},
   "outputs": [],
   "source": []
  }
 ],
 "metadata": {
  "kernelspec": {
   "display_name": "Python 3",
   "language": "python",
   "name": "python3"
  },
  "language_info": {
   "codemirror_mode": {
    "name": "ipython",
    "version": 3
   },
   "file_extension": ".py",
   "mimetype": "text/x-python",
   "name": "python",
   "nbconvert_exporter": "python",
   "pygments_lexer": "ipython3",
   "version": "3.7.2"
  }
 },
 "nbformat": 4,
 "nbformat_minor": 2
}
