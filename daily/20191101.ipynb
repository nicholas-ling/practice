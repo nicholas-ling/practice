{
 "cells": [
  {
   "cell_type": "code",
   "execution_count": 9,
   "metadata": {},
   "outputs": [],
   "source": [
    "class Node:\n",
    "    def __init__(self,val):\n",
    "        self.val = val\n",
    "        self.left = None\n",
    "        self.right = None\n",
    "\n",
    "def dfs(root):\n",
    "    if type(root.val) is int:\n",
    "        return root.val\n",
    "    elif root.val == '+':\n",
    "        return dfs(root.left) + dfs(root.right)\n",
    "    elif root.val == '-':\n",
    "        return dfs(root.left) - dfs(root.right)\n",
    "    elif root.val == '*':\n",
    "        return dfs(root.left) * dfs(root.right)\n",
    "    elif root.val == '/':\n",
    "        return dfs(root.left) / dfs(root.right)\n",
    "    else:\n",
    "        return 0\n",
    "    "
   ]
  },
  {
   "cell_type": "code",
   "execution_count": 13,
   "metadata": {},
   "outputs": [
    {
     "data": {
      "text/plain": [
       "25.0"
      ]
     },
     "execution_count": 13,
     "metadata": {},
     "output_type": "execute_result"
    }
   ],
   "source": [
    "root = Node('*')\n",
    "root.left = Node('+')\n",
    "root.right = Node('/')\n",
    "root.left.left = Node(2)\n",
    "root.left.right = Node(3)\n",
    "root.right.left = Node(10)\n",
    "root.right.right = Node(2)\n",
    "\n",
    "dfs(root)"
   ]
  },
  {
   "cell_type": "code",
   "execution_count": null,
   "metadata": {},
   "outputs": [],
   "source": []
  }
 ],
 "metadata": {
  "kernelspec": {
   "display_name": "Python 3",
   "language": "python",
   "name": "python3"
  },
  "language_info": {
   "codemirror_mode": {
    "name": "ipython",
    "version": 3
   },
   "file_extension": ".py",
   "mimetype": "text/x-python",
   "name": "python",
   "nbconvert_exporter": "python",
   "pygments_lexer": "ipython3",
   "version": "3.7.2"
  }
 },
 "nbformat": 4,
 "nbformat_minor": 2
}
