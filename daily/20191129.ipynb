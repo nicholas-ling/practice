{
 "cells": [
  {
   "cell_type": "code",
   "execution_count": 55,
   "metadata": {},
   "outputs": [
    {
     "name": "stdout",
     "output_type": "stream",
     "text": [
      "[1, 3, 5, 5, 6, 7, 9, 10, 12]\n"
     ]
    }
   ],
   "source": [
    "from heapq import heappush, heappop\n",
    "\n",
    "class Node:\n",
    "    def __init__(self, val):\n",
    "        self.val = val\n",
    "        self.nxt = None\n",
    "    def __lt__(self, other):\n",
    "        return self.val < other.val\n",
    "        \n",
    "def merge(arr):\n",
    "    heap = []\n",
    "    for node in arr:\n",
    "        heappush(heap, node)  \n",
    "        \n",
    "    head = pre = Node(-1) #dummy\n",
    "    while len(heap)>0:\n",
    "        curr = heappop(heap)\n",
    "        if curr.nxt is not None:\n",
    "            heappush(heap, curr.nxt)\n",
    "        pre.nxt = curr\n",
    "        pre = curr  \n",
    "    return head.nxt\n",
    "\n",
    "def p(node):\n",
    "    ret = []\n",
    "    while node is not None:\n",
    "        ret.append(node.val)\n",
    "        node = node.nxt\n",
    "    print(ret)\n",
    "        \n",
    "a = Node(1)\n",
    "a.nxt = Node(5)\n",
    "a.nxt.nxt = Node(9)\n",
    "\n",
    "b = Node(6)\n",
    "b.nxt = Node(7)\n",
    "b.nxt.nxt = Node(10)\n",
    "\n",
    "c = Node(3)\n",
    "c.nxt = Node(5)\n",
    "c.nxt.nxt = Node(12)\n",
    "\n",
    "arr = [a,b,c]\n",
    "p(merge(arr))\n"
   ]
  },
  {
   "cell_type": "code",
   "execution_count": null,
   "metadata": {},
   "outputs": [],
   "source": []
  }
 ],
 "metadata": {
  "kernelspec": {
   "display_name": "Python 3",
   "language": "python",
   "name": "python3"
  },
  "language_info": {
   "codemirror_mode": {
    "name": "ipython",
    "version": 3
   },
   "file_extension": ".py",
   "mimetype": "text/x-python",
   "name": "python",
   "nbconvert_exporter": "python",
   "pygments_lexer": "ipython3",
   "version": "3.7.2"
  }
 },
 "nbformat": 4,
 "nbformat_minor": 2
}
