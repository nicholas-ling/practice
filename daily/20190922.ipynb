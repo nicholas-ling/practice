{
 "cells": [
  {
   "cell_type": "code",
   "execution_count": 35,
   "metadata": {},
   "outputs": [],
   "source": [
    "import threading \n",
    "import time\n",
    "\n",
    "def my_print():\n",
    "    print('hi')\n",
    "    \n",
    "def my_timer(f, n):\n",
    "    time.sleep(n)\n",
    "    f()\n",
    "\n",
    "def schedule(ftimer, ffunc, n):\n",
    "    if type(n) is not int: \n",
    "        raise TypeError(\"n should be an integer\")\n",
    "    t = threading.Thread(target=ftimer, args=(ffunc,n))\n",
    "    t.start()"
   ]
  },
  {
   "cell_type": "code",
   "execution_count": 37,
   "metadata": {},
   "outputs": [
    {
     "name": "stdout",
     "output_type": "stream",
     "text": [
      "hi\n"
     ]
    }
   ],
   "source": [
    "schedule(my_timer, my_print, 10)"
   ]
  },
  {
   "cell_type": "code",
   "execution_count": null,
   "metadata": {},
   "outputs": [],
   "source": []
  }
 ],
 "metadata": {
  "kernelspec": {
   "display_name": "Python 3",
   "language": "python",
   "name": "python3"
  },
  "language_info": {
   "codemirror_mode": {
    "name": "ipython",
    "version": 3
   },
   "file_extension": ".py",
   "mimetype": "text/x-python",
   "name": "python",
   "nbconvert_exporter": "python",
   "pygments_lexer": "ipython3",
   "version": "3.7.2"
  }
 },
 "nbformat": 4,
 "nbformat_minor": 2
}
