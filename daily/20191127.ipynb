{
 "cells": [
  {
   "cell_type": "code",
   "execution_count": 20,
   "metadata": {},
   "outputs": [],
   "source": [
    "def min_col(arr):\n",
    "    if not arr:\n",
    "        return 0\n",
    "    n,count = len(arr[0]),0\n",
    "    for j in range(n):\n",
    "        if not is_sort(arr, j):\n",
    "            count+=1\n",
    "    return count\n",
    "\n",
    "def is_sort(arr, j):\n",
    "    m = len(arr)\n",
    "    current = 'a'\n",
    "    for i in range(m):\n",
    "        print(current, arr[i][j])\n",
    "        if current > arr[i][j]:\n",
    "            return False\n",
    "        current = arr[i][j]\n",
    "    return True\n",
    "    "
   ]
  },
  {
   "cell_type": "code",
   "execution_count": 26,
   "metadata": {},
   "outputs": [
    {
     "data": {
      "text/plain": [
       "0"
      ]
     },
     "execution_count": 26,
     "metadata": {},
     "output_type": "execute_result"
    }
   ],
   "source": [
    "arr = [['a','y','x'],['w','v','u'],['x','s','r']]\n",
    "arr = [[]]\n",
    "min_col(arr)"
   ]
  },
  {
   "cell_type": "code",
   "execution_count": null,
   "metadata": {},
   "outputs": [],
   "source": []
  }
 ],
 "metadata": {
  "kernelspec": {
   "display_name": "Python 3",
   "language": "python",
   "name": "python3"
  },
  "language_info": {
   "codemirror_mode": {
    "name": "ipython",
    "version": 3
   },
   "file_extension": ".py",
   "mimetype": "text/x-python",
   "name": "python",
   "nbconvert_exporter": "python",
   "pygments_lexer": "ipython3",
   "version": "3.7.2"
  }
 },
 "nbformat": 4,
 "nbformat_minor": 2
}
