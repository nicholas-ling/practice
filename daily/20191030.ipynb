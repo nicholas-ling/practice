{
 "cells": [
  {
   "cell_type": "code",
   "execution_count": 58,
   "metadata": {},
   "outputs": [],
   "source": [
    "class Node:\n",
    "    def __init__(self, val):\n",
    "        self.val = val\n",
    "        self.left = None\n",
    "        self.right = None\n",
    "\n",
    "def dfs(pre_order, in_order):\n",
    "    if len(pre_order) == 0:\n",
    "        return None\n",
    "    if pre_order[0] not in in_order:\n",
    "        return None\n",
    "    root = Node(pre_order.pop(0))\n",
    "    left, right = partition(root.val, in_order)\n",
    "    root.left = dfs(pre_order, left)\n",
    "    root.right = dfs(pre_order, right)\n",
    "    return root\n",
    "\n",
    "def partition(val, array):\n",
    "    for i, element in enumerate(array):\n",
    "        if val == element:\n",
    "            return array[:i], array[i+1:]\n",
    "    return [], []\n",
    "\n",
    "def walk(desc, root):\n",
    "    if root is not None:\n",
    "        print(desc, root.val)\n",
    "        walk(desc+\"_left\", root.left)\n",
    "        walk(desc+\"_right\", root.right)"
   ]
  },
  {
   "cell_type": "code",
   "execution_count": 61,
   "metadata": {},
   "outputs": [
    {
     "name": "stdout",
     "output_type": "stream",
     "text": [
      "root a\n",
      "root_left b\n",
      "root_left_left d\n",
      "root_left_right e\n",
      "root_right c\n",
      "root_right_left f\n",
      "root_right_right g\n"
     ]
    }
   ],
   "source": [
    "root = dfs(['a', 'b', 'd', 'e', 'c', 'f', 'g'], ['d', 'b', 'e', 'a', 'f', 'c', 'g'])\n",
    "walk('root', root)"
   ]
  },
  {
   "cell_type": "code",
   "execution_count": null,
   "metadata": {},
   "outputs": [],
   "source": []
  }
 ],
 "metadata": {
  "kernelspec": {
   "display_name": "Python 3",
   "language": "python",
   "name": "python3"
  },
  "language_info": {
   "codemirror_mode": {
    "name": "ipython",
    "version": 3
   },
   "file_extension": ".py",
   "mimetype": "text/x-python",
   "name": "python",
   "nbconvert_exporter": "python",
   "pygments_lexer": "ipython3",
   "version": "3.7.2"
  }
 },
 "nbformat": 4,
 "nbformat_minor": 2
}
