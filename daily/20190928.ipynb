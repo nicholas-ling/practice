{
 "cells": [
  {
   "cell_type": "code",
   "execution_count": 30,
   "metadata": {},
   "outputs": [],
   "source": [
    "class Log:\n",
    "    def __init__(self, n):\n",
    "        if n<0: raise AttributeError\n",
    "        self.size = n\n",
    "        self.arr = [-1]*self.size\n",
    "        self.last = -1\n",
    "    \n",
    "    def record(self, order_id):\n",
    "        self.next = self.last+1\n",
    "        if self.next >= self.size:\n",
    "            self.next = self.next%self.size\n",
    "        self.arr[self.next] = order_id\n",
    "        self.last = self.next\n",
    "    \n",
    "    def get_last(self, i):\n",
    "        return self.arr[self.last+1-i]"
   ]
  },
  {
   "cell_type": "code",
   "execution_count": 43,
   "metadata": {},
   "outputs": [
    {
     "data": {
      "text/plain": [
       "'e'"
      ]
     },
     "execution_count": 43,
     "metadata": {},
     "output_type": "execute_result"
    }
   ],
   "source": [
    "log = Log(3)\n",
    "log.record('a')\n",
    "log.record('b')\n",
    "log.record('c')\n",
    "log.record('d')\n",
    "log.record('e')\n",
    "log.record('f')\n",
    "log.record('g')\n",
    "log.get_last(3)"
   ]
  }
 ],
 "metadata": {
  "kernelspec": {
   "display_name": "Python 3",
   "language": "python",
   "name": "python3"
  },
  "language_info": {
   "codemirror_mode": {
    "name": "ipython",
    "version": 3
   },
   "file_extension": ".py",
   "mimetype": "text/x-python",
   "name": "python",
   "nbconvert_exporter": "python",
   "pygments_lexer": "ipython3",
   "version": "3.7.2"
  }
 },
 "nbformat": 4,
 "nbformat_minor": 2
}
