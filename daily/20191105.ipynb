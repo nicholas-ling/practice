{
 "cells": [
  {
   "cell_type": "code",
   "execution_count": 121,
   "metadata": {},
   "outputs": [],
   "source": [
    "def nxt(i,j):\n",
    "    if j<8:\n",
    "        return i,j+1\n",
    "    else:\n",
    "        return i+1,0\n",
    "    \n",
    "def intersection(grid, x, y):\n",
    "    row, col, sub_grid = {1,2,3,4,5,6,7,8,9}, {1,2,3,4,5,6,7,8,9}, {1,2,3,4,5,6,7,8,9}\n",
    "    for i in range(9):\n",
    "        if grid[x][i] != 0:\n",
    "            row.remove(grid[x][i])\n",
    "    for i in range(9):\n",
    "        if grid[i][y] != 0:\n",
    "            col.remove(grid[i][y])\n",
    "    bx, by = x//3*3, y//3*3\n",
    "    for i in range(bx, bx+3):\n",
    "        for j in range(by, by+3):\n",
    "            if grid[i][j] != 0:\n",
    "                sub_grid.remove(grid[i][j])\n",
    "    return set.intersection(row, col, sub_grid)\n",
    "\n",
    "def bt(grid, i, j):\n",
    "    if i==8 and j==8:\n",
    "        return grid\n",
    "    x, y = nxt(i, j)\n",
    "    if grid[i][j] != 0:\n",
    "        return bt(grid, x, y)\n",
    "    else:\n",
    "        potential = intersection(grid, i, j)\n",
    "        for element in potential:\n",
    "            grid[i][j] = element\n",
    "            result = bt(grid, x, y)\n",
    "            if len(result) != 0:\n",
    "                return result\n",
    "            grid[i][j] = 0\n",
    "        return []"
   ]
  },
  {
   "cell_type": "code",
   "execution_count": 122,
   "metadata": {},
   "outputs": [
    {
     "name": "stdout",
     "output_type": "stream",
     "text": [
      "[[4, 8, 6, 9, 1, 5, 7, 3, 2], [7, 2, 5, 4, 6, 3, 1, 9, 8], [3, 9, 1, 7, 8, 2, 4, 5, 6], [5, 6, 4, 1, 9, 7, 2, 8, 3], [9, 7, 3, 6, 2, 8, 5, 1, 4], [8, 1, 2, 5, 3, 4, 6, 7, 9], [2, 5, 7, 8, 4, 9, 3, 6, 1], [1, 3, 8, 2, 5, 6, 9, 4, 7], [6, 4, 9, 3, 7, 1, 8, 2, 0]]\n"
     ]
    }
   ],
   "source": [
    "grid = [\n",
    "[4, 0, 0, 0, 0, 5, 0, 0, 0],\n",
    "[0, 0, 0, 0, 0, 0, 1, 9, 8],\n",
    "[3, 0, 0, 0, 8, 2, 4, 0, 0],\n",
    "[0, 0, 0, 1, 0, 0, 0, 8, 0],\n",
    "[9, 0, 3, 0, 0, 0, 0, 0, 0],\n",
    "[0, 0, 0, 0, 3, 0, 6, 7, 0],\n",
    "[0, 5, 0, 0, 0, 9, 0, 0, 0],\n",
    "[0, 0, 0, 2, 0, 0, 9, 0, 7],\n",
    "[6, 4, 0, 3, 0, 0, 0, 0, 0],\n",
    "]\n",
    "ret = bt(grid,0, 0)\n",
    "print(ret)"
   ]
  },
  {
   "cell_type": "code",
   "execution_count": null,
   "metadata": {},
   "outputs": [],
   "source": []
  },
  {
   "cell_type": "code",
   "execution_count": null,
   "metadata": {},
   "outputs": [],
   "source": []
  }
 ],
 "metadata": {
  "kernelspec": {
   "display_name": "Python 3",
   "language": "python",
   "name": "python3"
  },
  "language_info": {
   "codemirror_mode": {
    "name": "ipython",
    "version": 3
   },
   "file_extension": ".py",
   "mimetype": "text/x-python",
   "name": "python",
   "nbconvert_exporter": "python",
   "pygments_lexer": "ipython3",
   "version": "3.7.2"
  }
 },
 "nbformat": 4,
 "nbformat_minor": 2
}
