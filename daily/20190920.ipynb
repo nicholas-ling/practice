{
 "cells": [
  {
   "cell_type": "code",
   "execution_count": 38,
   "metadata": {},
   "outputs": [],
   "source": [
    "class Node:\n",
    "    def __init__(self, value):\n",
    "        self.value = value\n",
    "        self.left = None\n",
    "        self.right = None"
   ]
  },
  {
   "cell_type": "code",
   "execution_count": 44,
   "metadata": {},
   "outputs": [],
   "source": [
    "counter = [0]\n",
    "def dfs(root, counter):\n",
    "    if root == None: return True\n",
    "    left = dfs(root.left, counter)\n",
    "    right = dfs(root.right, counter)\n",
    "    if same(root) and left and right:\n",
    "        counter[0]+=1\n",
    "        return True\n",
    "    else:\n",
    "        return False\n",
    "\n",
    "def same(root):\n",
    "    if root.left and root.right:\n",
    "        return (root.left.value == root.right.value) and (root.left.value == root.value)\n",
    "    elif root.left == None and root.right:\n",
    "        return root.value == root.right.value\n",
    "    elif root.left and root.right == None:\n",
    "        return root.value == root.left.value\n",
    "    else:\n",
    "        return True"
   ]
  },
  {
   "cell_type": "code",
   "execution_count": 49,
   "metadata": {},
   "outputs": [
    {
     "data": {
      "text/plain": [
       "[5]"
      ]
     },
     "execution_count": 49,
     "metadata": {},
     "output_type": "execute_result"
    }
   ],
   "source": [
    "counter = [0]\n",
    "root = Node(0)\n",
    "root.left = Node(1)\n",
    "root.right = Node(0)\n",
    "root.right.left=Node(1)\n",
    "root.right.right=Node(0)\n",
    "root.right.left.left=Node(1)\n",
    "root.right.left.right=Node(1)\n",
    "dfs(root, counter)\n",
    "counter"
   ]
  },
  {
   "cell_type": "code",
   "execution_count": 50,
   "metadata": {},
   "outputs": [
    {
     "data": {
      "text/plain": [
       "[1]"
      ]
     },
     "execution_count": 50,
     "metadata": {},
     "output_type": "execute_result"
    }
   ],
   "source": [
    "counter = [0]\n",
    "root = Node(0)\n",
    "dfs(root, counter)\n",
    "counter"
   ]
  },
  {
   "cell_type": "code",
   "execution_count": 51,
   "metadata": {},
   "outputs": [
    {
     "data": {
      "text/plain": [
       "[2]"
      ]
     },
     "execution_count": 51,
     "metadata": {},
     "output_type": "execute_result"
    }
   ],
   "source": [
    "counter = [0]\n",
    "root = Node(0)\n",
    "root.left = Node(1)\n",
    "root.right = Node(0)\n",
    "dfs(root, counter)\n",
    "counter"
   ]
  },
  {
   "cell_type": "code",
   "execution_count": 52,
   "metadata": {},
   "outputs": [
    {
     "data": {
      "text/plain": [
       "[1]"
      ]
     },
     "execution_count": 52,
     "metadata": {},
     "output_type": "execute_result"
    }
   ],
   "source": [
    "counter = [0]\n",
    "root = Node(None)\n",
    "dfs(root, counter)\n",
    "counter"
   ]
  },
  {
   "cell_type": "code",
   "execution_count": null,
   "metadata": {},
   "outputs": [],
   "source": []
  },
  {
   "cell_type": "code",
   "execution_count": null,
   "metadata": {},
   "outputs": [],
   "source": []
  }
 ],
 "metadata": {
  "kernelspec": {
   "display_name": "Python 3",
   "language": "python",
   "name": "python3"
  },
  "language_info": {
   "codemirror_mode": {
    "name": "ipython",
    "version": 3
   },
   "file_extension": ".py",
   "mimetype": "text/x-python",
   "name": "python",
   "nbconvert_exporter": "python",
   "pygments_lexer": "ipython3",
   "version": "3.7.2"
  }
 },
 "nbformat": 4,
 "nbformat_minor": 2
}
