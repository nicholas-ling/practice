{
 "cells": [
  {
   "cell_type": "code",
   "execution_count": 34,
   "metadata": {},
   "outputs": [
    {
     "data": {
      "text/plain": [
       "2"
      ]
     },
     "execution_count": 34,
     "metadata": {},
     "output_type": "execute_result"
    }
   ],
   "source": [
    "from collections import defaultdict\n",
    "\n",
    "def count(m, biships):\n",
    "    l = [x+y for x,y in biships]\n",
    "    r = [abs(x-y) for x,y in biships]\n",
    "    return uniq(l) + uniq(r)\n",
    "\n",
    "def uniq(li):\n",
    "    s = 0\n",
    "    d = defaultdict(lambda:0)\n",
    "    for x in li:\n",
    "        d[x] = d[x]+1\n",
    "    for k,v in d.items():\n",
    "        if v>1:\n",
    "            s += v*(v-1)//2\n",
    "    return s\n",
    "\n",
    "count(5, [[0,0], [1,2], [2,2], [0,4]])"
   ]
  },
  {
   "cell_type": "code",
   "execution_count": null,
   "metadata": {},
   "outputs": [],
   "source": []
  }
 ],
 "metadata": {
  "kernelspec": {
   "display_name": "Python 3",
   "language": "python",
   "name": "python3"
  },
  "language_info": {
   "codemirror_mode": {
    "name": "ipython",
    "version": 3
   },
   "file_extension": ".py",
   "mimetype": "text/x-python",
   "name": "python",
   "nbconvert_exporter": "python",
   "pygments_lexer": "ipython3",
   "version": "3.7.2"
  }
 },
 "nbformat": 4,
 "nbformat_minor": 2
}
