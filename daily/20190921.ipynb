{
 "cells": [
  {
   "cell_type": "code",
   "execution_count": 16,
   "metadata": {},
   "outputs": [],
   "source": [
    "def maximum(arr):\n",
    "    if arr is None or len(arr) == 0:\n",
    "        return 0\n",
    "    elif len(arr) == 1:\n",
    "        return arr[-1]\n",
    "    else:\n",
    "        cmax, jump = arr[-1], 0\n",
    "        for i in reversed(range(len(arr)-1)):\n",
    "            oldmax = cmax\n",
    "            if arr[i]+jump > oldmax:\n",
    "                cmax = arr[i]+jump\n",
    "            jump = oldmax\n",
    "    return cmax"
   ]
  },
  {
   "cell_type": "code",
   "execution_count": 17,
   "metadata": {},
   "outputs": [
    {
     "data": {
      "text/plain": [
       "26"
      ]
     },
     "execution_count": 17,
     "metadata": {},
     "output_type": "execute_result"
    }
   ],
   "source": [
    "maximum([5,20,10,6,3])"
   ]
  },
  {
   "cell_type": "code",
   "execution_count": null,
   "metadata": {},
   "outputs": [],
   "source": []
  }
 ],
 "metadata": {
  "kernelspec": {
   "display_name": "Python 3",
   "language": "python",
   "name": "python3"
  },
  "language_info": {
   "codemirror_mode": {
    "name": "ipython",
    "version": 3
   },
   "file_extension": ".py",
   "mimetype": "text/x-python",
   "name": "python",
   "nbconvert_exporter": "python",
   "pygments_lexer": "ipython3",
   "version": "3.7.2"
  }
 },
 "nbformat": 4,
 "nbformat_minor": 2
}
