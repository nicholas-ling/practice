{
 "cells": [
  {
   "cell_type": "code",
   "execution_count": 44,
   "metadata": {},
   "outputs": [],
   "source": [
    "class Node:\n",
    "    def __init__(self, val):\n",
    "        self.val = val\n",
    "        self.nxt = None\n",
    "    \n",
    "class Stack:\n",
    "    def __init__(self):\n",
    "        self.arr = []\n",
    "        self.max = None\n",
    "    \n",
    "    def push(self, val):\n",
    "        new_node = Node(val)\n",
    "        if self.max is None:\n",
    "            self.max = new_node\n",
    "        else:\n",
    "            if val > self.max.val:\n",
    "                old_max = self.max\n",
    "                self.max = new_node\n",
    "                self.max.nxt = old_max\n",
    "        self.arr.append(new_node)\n",
    "        \n",
    "    def pop(self):\n",
    "        if len(self.arr) == 0: \n",
    "            return None\n",
    "        pop_item = self.arr.pop()\n",
    "        if pop_item is self.max:\n",
    "            self.max = self.max.nxt\n",
    "        return pop_item.val\n",
    "    \n",
    "    def maximum(self):\n",
    "        if self.max is None:\n",
    "            return None\n",
    "        return self.max.val\n",
    "    \n",
    "    def prints(self):\n",
    "        li = []\n",
    "        for node in self.arr:\n",
    "            li.append(node.val)\n",
    "        print(li)"
   ]
  },
  {
   "cell_type": "code",
   "execution_count": 45,
   "metadata": {},
   "outputs": [
    {
     "name": "stdout",
     "output_type": "stream",
     "text": [
      "6\n",
      "2\n",
      "6\n",
      "6\n",
      "3\n",
      "3\n",
      "2\n",
      "1\n",
      "2\n",
      "2\n",
      "None\n",
      "None\n",
      "None\n"
     ]
    }
   ],
   "source": [
    "s = Stack()\n",
    "s.push(2)\n",
    "s.push(1)\n",
    "s.push(3)\n",
    "s.push(6)\n",
    "s.push(2)\n",
    "print(s.maximum())\n",
    "print(s.pop())\n",
    "print(s.maximum())\n",
    "print(s.pop())\n",
    "print(s.maximum())\n",
    "print(s.pop())\n",
    "print(s.maximum())\n",
    "print(s.pop())\n",
    "print(s.maximum())\n",
    "print(s.pop())\n",
    "print(s.maximum())\n",
    "print(s.pop())\n",
    "print(s.maximum())\n",
    "\n",
    "\n"
   ]
  },
  {
   "cell_type": "code",
   "execution_count": null,
   "metadata": {},
   "outputs": [],
   "source": []
  },
  {
   "cell_type": "code",
   "execution_count": null,
   "metadata": {},
   "outputs": [],
   "source": []
  }
 ],
 "metadata": {
  "kernelspec": {
   "display_name": "Python 3",
   "language": "python",
   "name": "python3"
  },
  "language_info": {
   "codemirror_mode": {
    "name": "ipython",
    "version": 3
   },
   "file_extension": ".py",
   "mimetype": "text/x-python",
   "name": "python",
   "nbconvert_exporter": "python",
   "pygments_lexer": "ipython3",
   "version": "3.7.2"
  }
 },
 "nbformat": 4,
 "nbformat_minor": 2
}
