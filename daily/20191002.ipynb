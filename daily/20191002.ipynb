{
 "cells": [
  {
   "cell_type": "code",
   "execution_count": 153,
   "metadata": {},
   "outputs": [],
   "source": [
    "class Node:\n",
    "    def __init__(self, val):\n",
    "        self.val = val\n",
    "        self.next = None\n",
    "\n",
    "m = Node(3)\n",
    "m.next = Node(7)\n",
    "m.next.next = Node(8)\n",
    "m.next.next.next = Node(10)\n",
    "\n",
    "n = Node(6)\n",
    "n.next = Node(2)\n",
    "n.next.next = Node(10)\n",
    "\n",
    "        "
   ]
  },
  {
   "cell_type": "code",
   "execution_count": 155,
   "metadata": {},
   "outputs": [],
   "source": [
    "def length(head):\n",
    "    ret = 0\n",
    "    while head != None:\n",
    "        ret += 1\n",
    "        head = head.next\n",
    "    return ret\n",
    "\n",
    "def intersection(m, n):\n",
    "    ml,nl = length(m), length(n)\n",
    "    if ml<nl:\n",
    "        for i in range(nl-ml):\n",
    "            n = n.next\n",
    "    if ml>nl:\n",
    "        for i in range(ml-nl):\n",
    "            m = m.next\n",
    "    for i in range(min(ml, nl)):\n",
    "        if m.val == n.val:\n",
    "            return m.val\n",
    "        m, n = m.next, n.next\n",
    "        "
   ]
  },
  {
   "cell_type": "code",
   "execution_count": 156,
   "metadata": {},
   "outputs": [
    {
     "data": {
      "text/plain": [
       "10"
      ]
     },
     "execution_count": 156,
     "metadata": {},
     "output_type": "execute_result"
    }
   ],
   "source": [
    "intersection(m, n)"
   ]
  },
  {
   "cell_type": "code",
   "execution_count": null,
   "metadata": {},
   "outputs": [],
   "source": []
  }
 ],
 "metadata": {
  "kernelspec": {
   "display_name": "Python 3",
   "language": "python",
   "name": "python3"
  },
  "language_info": {
   "codemirror_mode": {
    "name": "ipython",
    "version": 3
   },
   "file_extension": ".py",
   "mimetype": "text/x-python",
   "name": "python",
   "nbconvert_exporter": "python",
   "pygments_lexer": "ipython3",
   "version": "3.7.2"
  }
 },
 "nbformat": 4,
 "nbformat_minor": 2
}
