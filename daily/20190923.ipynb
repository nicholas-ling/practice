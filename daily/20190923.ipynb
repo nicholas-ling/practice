{
 "cells": [
  {
   "cell_type": "code",
   "execution_count": 23,
   "metadata": {},
   "outputs": [],
   "source": [
    "class TriNode:\n",
    "    def __init__(self, value):\n",
    "        self.value = value\n",
    "        self.dict = {}"
   ]
  },
  {
   "cell_type": "code",
   "execution_count": 24,
   "metadata": {},
   "outputs": [],
   "source": [
    "def buildTri(arr):\n",
    "    root = TriNode('')\n",
    "    for word in arr:\n",
    "        current = root\n",
    "        for letter in word:\n",
    "            if letter not in current.dict:\n",
    "                current.dict[letter] = TriNode(letter)\n",
    "            current = current.dict[letter]    \n",
    "    return root"
   ]
  },
  {
   "cell_type": "code",
   "execution_count": 34,
   "metadata": {},
   "outputs": [],
   "source": [
    "def dfs(root, ret, current):\n",
    "    if root.dict == {}:\n",
    "        ret.append(current)\n",
    "        return      \n",
    "    for letter in root.dict:\n",
    "        dfs(root.dict[letter], ret, current+letter)\n",
    "\n",
    "def search(arr, s):\n",
    "    root = buildTri(arr)\n",
    "    if s is '': \n",
    "        return []\n",
    "    current = root\n",
    "    for letter in s:\n",
    "        if letter not in current.dict:\n",
    "            return []\n",
    "        else:\n",
    "            current = current.dict[letter]\n",
    "    ret = []\n",
    "    dfs(current, ret, \"\")\n",
    "    return [s+n for n in ret]"
   ]
  },
  {
   "cell_type": "code",
   "execution_count": 40,
   "metadata": {},
   "outputs": [
    {
     "data": {
      "text/plain": [
       "['deer', 'deal']"
      ]
     },
     "execution_count": 40,
     "metadata": {},
     "output_type": "execute_result"
    }
   ],
   "source": [
    "search(['dog', 'deer', 'deal'], 'de')"
   ]
  },
  {
   "cell_type": "code",
   "execution_count": null,
   "metadata": {},
   "outputs": [],
   "source": []
  }
 ],
 "metadata": {
  "kernelspec": {
   "display_name": "Python 3",
   "language": "python",
   "name": "python3"
  },
  "language_info": {
   "codemirror_mode": {
    "name": "ipython",
    "version": 3
   },
   "file_extension": ".py",
   "mimetype": "text/x-python",
   "name": "python",
   "nbconvert_exporter": "python",
   "pygments_lexer": "ipython3",
   "version": "3.7.2"
  }
 },
 "nbformat": 4,
 "nbformat_minor": 2
}
