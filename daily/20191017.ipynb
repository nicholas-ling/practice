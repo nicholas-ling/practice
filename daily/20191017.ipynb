{
 "cells": [
  {
   "cell_type": "code",
   "execution_count": 24,
   "metadata": {},
   "outputs": [],
   "source": [
    "def sort(arr):\n",
    "    index, length = 0, len(arr)\n",
    "    for i in range(index, length):\n",
    "        if arr[i] == 'R':\n",
    "            arr[i], arr[index] = arr[index], arr[i]\n",
    "            index+=1\n",
    "            print('R', index)\n",
    "    for i in range(index, length):\n",
    "        if arr[i] == 'G':\n",
    "            arr[i], arr[index] = arr[index], arr[i]\n",
    "            index+=1\n",
    "            print('G', index)\n",
    "    for i in range(index, length):\n",
    "        if arr[i] == 'B':\n",
    "            arr[i], arr[index] = arr[index], arr[i]\n",
    "            index+=1\n",
    "            print('B', index, length)"
   ]
  },
  {
   "cell_type": "code",
   "execution_count": null,
   "metadata": {},
   "outputs": [],
   "source": []
  },
  {
   "cell_type": "code",
   "execution_count": 32,
   "metadata": {},
   "outputs": [
    {
     "name": "stdout",
     "output_type": "stream",
     "text": [
      "G 1\n",
      "B 2 2\n",
      "['G', 'B']\n"
     ]
    }
   ],
   "source": [
    "arr =  ['B', 'G']\n",
    "sort(arr)\n",
    "print(arr)"
   ]
  },
  {
   "cell_type": "code",
   "execution_count": null,
   "metadata": {},
   "outputs": [],
   "source": []
  }
 ],
 "metadata": {
  "kernelspec": {
   "display_name": "Python 3",
   "language": "python",
   "name": "python3"
  },
  "language_info": {
   "codemirror_mode": {
    "name": "ipython",
    "version": 3
   },
   "file_extension": ".py",
   "mimetype": "text/x-python",
   "name": "python",
   "nbconvert_exporter": "python",
   "pygments_lexer": "ipython3",
   "version": "3.7.2"
  }
 },
 "nbformat": 4,
 "nbformat_minor": 2
}
