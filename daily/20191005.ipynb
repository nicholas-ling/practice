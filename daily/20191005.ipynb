{
 "cells": [
  {
   "cell_type": "code",
   "execution_count": 99,
   "metadata": {},
   "outputs": [],
   "source": [
    "matrix = [[False, False, False], [False, True, True], [False, False, False]]\n",
    "def neighbor(matrix, coordinate):\n",
    "    row, col = coordinate\n",
    "    rowl, coll = len(matrix), len(matrix[0])\n",
    "    ret = []\n",
    "    for coord in [(row-1, col), (row+1, col), (row, col-1), (row, col+1)]:\n",
    "        l, r = coord\n",
    "        if -1<l<rowl and -1<r<coll and matrix[l][r] is False:\n",
    "            ret.append(coord)\n",
    "    return ret\n",
    "\n",
    "def bfs(matrix, start, end):\n",
    "    rowl, coll = len(matrix), len(matrix[0])\n",
    "    sl, sr = start\n",
    "    cache, current, queue = [[-1 for i in range(coll)] for j in range(rowl)], start, []\n",
    "    queue.append(current)\n",
    "    queue.append(0)\n",
    "    cache[sl][sr] = 0\n",
    "    while len(queue) != 0:\n",
    "        current = queue.pop(0)\n",
    "        step = queue.pop(0)\n",
    "        print(current, step)\n",
    "\n",
    "\n",
    "        for tile in neighbor(matrix, current):\n",
    "            print(tile)\n",
    "            if tile == end:\n",
    "                return step+1\n",
    "            l, r = tile\n",
    "            if cache[l][r] == -1 or cache[l][r] > step+1:\n",
    "                cache[l][r] = step+1\n",
    "                queue.append(tile)\n",
    "                queue.append(step+1)\n",
    "    return 0"
   ]
  },
  {
   "cell_type": "code",
   "execution_count": 106,
   "metadata": {},
   "outputs": [
    {
     "name": "stdout",
     "output_type": "stream",
     "text": [
      "(2, 1) 0\n",
      "(2, 0)\n",
      "(2, 2)\n",
      "(2, 0) 1\n",
      "(1, 0)\n"
     ]
    },
    {
     "data": {
      "text/plain": [
       "2"
      ]
     },
     "execution_count": 106,
     "metadata": {},
     "output_type": "execute_result"
    }
   ],
   "source": [
    "bfs(matrix, (2, 1), (1,0))"
   ]
  },
  {
   "cell_type": "code",
   "execution_count": 110,
   "metadata": {},
   "outputs": [
    {
     "name": "stdout",
     "output_type": "stream",
     "text": [
      "[[2, 1, 1, 1, 1, 1, 1, 1, 1, 1], [2, 1, 1, 1, 1, 1, 1, 1, 1, 1], [2, 1, 1, 1, 1, 1, 1, 1, 1, 1], [2, 1, 1, 1, 1, 1, 1, 1, 1, 1], [2, 1, 1, 1, 1, 1, 1, 1, 1, 1], [2, 1, 1, 1, 1, 1, 1, 1, 1, 1], [2, 1, 1, 1, 1, 1, 1, 1, 1, 1], [2, 1, 1, 1, 1, 1, 1, 1, 1, 1], [2, 1, 1, 1, 1, 1, 1, 1, 1, 1], [2, 1, 1, 1, 1, 1, 1, 1, 1, 1]]\n"
     ]
    }
   ],
   "source": [
    "a = [[1]*10]*10\n",
    "a[0][0]=2\n",
    "print(a)"
   ]
  },
  {
   "cell_type": "code",
   "execution_count": null,
   "metadata": {},
   "outputs": [],
   "source": []
  }
 ],
 "metadata": {
  "kernelspec": {
   "display_name": "Python 3",
   "language": "python",
   "name": "python3"
  },
  "language_info": {
   "codemirror_mode": {
    "name": "ipython",
    "version": 3
   },
   "file_extension": ".py",
   "mimetype": "text/x-python",
   "name": "python",
   "nbconvert_exporter": "python",
   "pygments_lexer": "ipython3",
   "version": "3.7.2"
  }
 },
 "nbformat": 4,
 "nbformat_minor": 2
}
