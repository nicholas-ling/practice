{
 "cells": [
  {
   "cell_type": "code",
   "execution_count": 38,
   "metadata": {},
   "outputs": [],
   "source": [
    "def safe(exist, point):\n",
    "    row, col = point\n",
    "    for _, position in enumerate(exist):\n",
    "        i,j = position\n",
    "        if row == i or col == j or abs(row-i) == abs(col-j):\n",
    "            return False\n",
    "    return True\n",
    "\n",
    "count = 0\n",
    "def bt(n, exist, row):\n",
    "    global count\n",
    "    if row == n:\n",
    "        count += 1\n",
    "        return\n",
    "    for col in range(0, n):\n",
    "        if safe(exist, (row, col)):\n",
    "            bt(n, exist+[(row, col)], row+1)\n",
    "        "
   ]
  },
  {
   "cell_type": "code",
   "execution_count": 39,
   "metadata": {},
   "outputs": [
    {
     "name": "stdout",
     "output_type": "stream",
     "text": [
      "10\n"
     ]
    }
   ],
   "source": [
    "bt(5, [], 0)\n",
    "print(count)"
   ]
  },
  {
   "cell_type": "code",
   "execution_count": null,
   "metadata": {},
   "outputs": [],
   "source": []
  }
 ],
 "metadata": {
  "kernelspec": {
   "display_name": "Python 3",
   "language": "python",
   "name": "python3"
  },
  "language_info": {
   "codemirror_mode": {
    "name": "ipython",
    "version": 3
   },
   "file_extension": ".py",
   "mimetype": "text/x-python",
   "name": "python",
   "nbconvert_exporter": "python",
   "pygments_lexer": "ipython3",
   "version": "3.7.2"
  }
 },
 "nbformat": 4,
 "nbformat_minor": 2
}
