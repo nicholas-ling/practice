{
 "cells": [
  {
   "cell_type": "code",
   "execution_count": 12,
   "metadata": {},
   "outputs": [
    {
     "data": {
      "text/plain": [
       "['adg',\n",
       " 'adh',\n",
       " 'adi',\n",
       " 'aeg',\n",
       " 'aeh',\n",
       " 'aei',\n",
       " 'afg',\n",
       " 'afh',\n",
       " 'afi',\n",
       " 'bdg',\n",
       " 'bdh',\n",
       " 'bdi',\n",
       " 'beg',\n",
       " 'beh',\n",
       " 'bei',\n",
       " 'bfg',\n",
       " 'bfh',\n",
       " 'bfi',\n",
       " 'cdg',\n",
       " 'cdh',\n",
       " 'cdi',\n",
       " 'ceg',\n",
       " 'ceh',\n",
       " 'cei',\n",
       " 'cfg',\n",
       " 'cfh',\n",
       " 'cfi']"
      ]
     },
     "execution_count": 12,
     "metadata": {},
     "output_type": "execute_result"
    }
   ],
   "source": [
    "def merge(arr1, arr2):\n",
    "    ret = []\n",
    "    for s1 in arr1:\n",
    "        for s2 in arr2:\n",
    "            ret.append(s1+s2)\n",
    "    return ret\n",
    "\n",
    "\n",
    "def partition(mapp, s):\n",
    "    if len(s) == 0:\n",
    "        return []\n",
    "    if len(s) == 1:\n",
    "        return mapp[s]\n",
    "    b,e = 0, len(s)-1\n",
    "    m = (b+e)//2\n",
    "    l = partition(mapp, s[0:m+1])\n",
    "    r = partition(mapp, s[m+1:len(s)])\n",
    "    return merge(l, r)\n",
    "\n",
    "merge(['a','b'],['c','d'])\n",
    "mapp = {'2':['a','b','c'],'3':['d','e','f'], '4':['g','h','i']}\n",
    "partition(mapp, '234')"
   ]
  },
  {
   "cell_type": "code",
   "execution_count": null,
   "metadata": {},
   "outputs": [],
   "source": []
  },
  {
   "cell_type": "code",
   "execution_count": null,
   "metadata": {},
   "outputs": [],
   "source": []
  },
  {
   "cell_type": "code",
   "execution_count": null,
   "metadata": {},
   "outputs": [],
   "source": []
  },
  {
   "cell_type": "code",
   "execution_count": null,
   "metadata": {},
   "outputs": [],
   "source": []
  }
 ],
 "metadata": {
  "kernelspec": {
   "display_name": "Python 3",
   "language": "python",
   "name": "python3"
  },
  "language_info": {
   "codemirror_mode": {
    "name": "ipython",
    "version": 3
   },
   "file_extension": ".py",
   "mimetype": "text/x-python",
   "name": "python",
   "nbconvert_exporter": "python",
   "pygments_lexer": "ipython3",
   "version": "3.7.2"
  }
 },
 "nbformat": 4,
 "nbformat_minor": 2
}
