{
 "cells": [
  {
   "cell_type": "code",
   "execution_count": 18,
   "metadata": {},
   "outputs": [],
   "source": [
    "def dp(m, n):\n",
    "    if m<1 or n<1:\n",
    "        return 0\n",
    "    if m==1 or n==1:\n",
    "        return 1\n",
    "    matrix = [[1 for j in range(n)] for i in range(m)]\n",
    "    for i in range(1, m):\n",
    "        for j in range(1, n):\n",
    "            print(i, j, matrix)\n",
    "            matrix[i][j] = matrix[i-1][j] + matrix[i][j-1]\n",
    "    return matrix[m-1][n-1]"
   ]
  },
  {
   "cell_type": "code",
   "execution_count": 23,
   "metadata": {},
   "outputs": [
    {
     "name": "stdout",
     "output_type": "stream",
     "text": [
      "1 1 [[1, 1, 1, 1], [1, 1, 1, 1], [1, 1, 1, 1]]\n",
      "1 2 [[1, 1, 1, 1], [1, 2, 1, 1], [1, 1, 1, 1]]\n",
      "1 3 [[1, 1, 1, 1], [1, 2, 3, 1], [1, 1, 1, 1]]\n",
      "2 1 [[1, 1, 1, 1], [1, 2, 3, 4], [1, 1, 1, 1]]\n",
      "2 2 [[1, 1, 1, 1], [1, 2, 3, 4], [1, 3, 1, 1]]\n",
      "2 3 [[1, 1, 1, 1], [1, 2, 3, 4], [1, 3, 6, 1]]\n"
     ]
    },
    {
     "data": {
      "text/plain": [
       "10"
      ]
     },
     "execution_count": 23,
     "metadata": {},
     "output_type": "execute_result"
    }
   ],
   "source": [
    "dp(3,4)"
   ]
  },
  {
   "cell_type": "code",
   "execution_count": null,
   "metadata": {},
   "outputs": [],
   "source": []
  }
 ],
 "metadata": {
  "kernelspec": {
   "display_name": "Python 3",
   "language": "python",
   "name": "python3"
  },
  "language_info": {
   "codemirror_mode": {
    "name": "ipython",
    "version": 3
   },
   "file_extension": ".py",
   "mimetype": "text/x-python",
   "name": "python",
   "nbconvert_exporter": "python",
   "pygments_lexer": "ipython3",
   "version": "3.7.2"
  }
 },
 "nbformat": 4,
 "nbformat_minor": 2
}
