{
 "cells": [
  {
   "cell_type": "code",
   "execution_count": 48,
   "metadata": {},
   "outputs": [],
   "source": [
    "def breakline(s, k):\n",
    "    queue, ret, line = s.split(), [], ''\n",
    "    while len(queue) != 0:\n",
    "        word = queue[0]\n",
    "        if len(word)<=k and len(line)==0:\n",
    "            line += queue.pop(0)\n",
    "        elif len(line)+1+len(word)<=k:\n",
    "            line = line + ' ' + queue.pop(0)\n",
    "        else:\n",
    "            ret.append(line)\n",
    "            line=''\n",
    "    if len(line)!=0:\n",
    "        ret.append(line)\n",
    "    return ret   "
   ]
  },
  {
   "cell_type": "code",
   "execution_count": 47,
   "metadata": {},
   "outputs": [
    {
     "data": {
      "text/plain": [
       "['the quick brown fox', 'jumps over the lazy', 'dog']"
      ]
     },
     "execution_count": 47,
     "metadata": {},
     "output_type": "execute_result"
    }
   ],
   "source": [
    "s = 'the quick brown fox jumps over the lazy dog'\n",
    "breakline(s, 20)\n"
   ]
  }
 ],
 "metadata": {
  "kernelspec": {
   "display_name": "Python 3",
   "language": "python",
   "name": "python3"
  },
  "language_info": {
   "codemirror_mode": {
    "name": "ipython",
    "version": 3
   },
   "file_extension": ".py",
   "mimetype": "text/x-python",
   "name": "python",
   "nbconvert_exporter": "python",
   "pygments_lexer": "ipython3",
   "version": "3.7.2"
  }
 },
 "nbformat": 4,
 "nbformat_minor": 2
}
