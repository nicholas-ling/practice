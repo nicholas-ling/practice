{
 "cells": [
  {
   "cell_type": "code",
   "execution_count": 12,
   "metadata": {},
   "outputs": [
    {
     "name": "stdout",
     "output_type": "stream",
     "text": [
      "1\n",
      "2\n",
      "3\n",
      "4\n",
      "5\n",
      "10\n",
      "15\n",
      "20\n",
      "19\n",
      "18\n",
      "17\n",
      "16\n",
      "11\n",
      "6\n",
      "7\n",
      "8\n",
      "9\n",
      "14\n",
      "13\n",
      "12\n"
     ]
    }
   ],
   "source": [
    "def clockwise(arr):\n",
    "    i,j = 0,0\n",
    "    m, n = len(arr)-1, len(arr[0])\n",
    "    \n",
    "    while True:\n",
    "        if n==0:\n",
    "            break\n",
    "        for k in range(j, n+j):\n",
    "            print(arr[i][k])\n",
    "        i, j, n = i+1, k, n-1\n",
    "        \n",
    "        if m==0:\n",
    "            break\n",
    "        for k in range(i, m+i):\n",
    "            print(arr[k][j])\n",
    "        i, j, m = k, j-1, m-1\n",
    "            \n",
    "        if n==0:\n",
    "            break\n",
    "        for k in range(j, j-n, -1):\n",
    "            print(arr[i][k])\n",
    "        i, j, n = i-1, k, n-1\n",
    "        \n",
    "        if m==0:\n",
    "            break\n",
    "        for k in range(i, i-m, -1):\n",
    "            print(arr[k][j])\n",
    "        i, j, m = k, j+1, m-1\n",
    "            \n",
    "\n",
    "arr = [[1,  2,  3,  4,  5],\n",
    " [6,  7,  8,  9,  10],\n",
    " [11, 12, 13, 14, 15],\n",
    " [16, 17, 18, 19, 20]]\n",
    "clockwise(arr)\n",
    "   \n",
    "            \n",
    "            "
   ]
  },
  {
   "cell_type": "code",
   "execution_count": null,
   "metadata": {},
   "outputs": [],
   "source": []
  },
  {
   "cell_type": "code",
   "execution_count": null,
   "metadata": {},
   "outputs": [],
   "source": []
  }
 ],
 "metadata": {
  "kernelspec": {
   "display_name": "Python 3",
   "language": "python",
   "name": "python3"
  },
  "language_info": {
   "codemirror_mode": {
    "name": "ipython",
    "version": 3
   },
   "file_extension": ".py",
   "mimetype": "text/x-python",
   "name": "python",
   "nbconvert_exporter": "python",
   "pygments_lexer": "ipython3",
   "version": "3.7.2"
  }
 },
 "nbformat": 4,
 "nbformat_minor": 2
}
