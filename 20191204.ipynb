{
 "cells": [
  {
   "cell_type": "code",
   "execution_count": 41,
   "metadata": {},
   "outputs": [],
   "source": [
    "class Node:\n",
    "    def __init__(self, val):\n",
    "        self.val = val\n",
    "        self.l = None\n",
    "        self.r = None\n",
    "\n",
    "def invert(root):\n",
    "    if not root:\n",
    "        return\n",
    "    root.l, root.r = root.r, root.l\n",
    "    invert(root.l)\n",
    "    invert(root.r)\n",
    "    \n",
    "def bfs(level, depth, padding):\n",
    "    deli = ' '\n",
    "    if not level:\n",
    "        return\n",
    "    nxt = []\n",
    "    nxt_padding = deli * ((2**depth)-1)\n",
    "    print(nxt_padding, end=\"\")\n",
    "    li = []\n",
    "    for node in level:\n",
    "        if node:\n",
    "            li.append(node.val)\n",
    "            nxt.append(node.l)\n",
    "            nxt.append(node.r)\n",
    "        else:\n",
    "            li.append(0)\n",
    "    print(padding.join(str(v) for v in li))\n",
    "    bfs(nxt, depth-1, nxt_padding)"
   ]
  },
  {
   "cell_type": "code",
   "execution_count": 51,
   "metadata": {},
   "outputs": [
    {
     "name": "stdout",
     "output_type": "stream",
     "text": [
      "       1\n",
      "   2       3\n",
      " 4   5   6   0\n",
      "0 0 0 0 0 0\n",
      "       1\n",
      "   3       2\n",
      " 0   6   5   4\n",
      "0 0 0 0 0 0\n"
     ]
    }
   ],
   "source": [
    "root = Node(1)\n",
    "root.l = Node(2)\n",
    "root.r = Node(3)\n",
    "root.l.l = Node(4)\n",
    "root.l.r = Node(5)\n",
    "root.r.l = Node(6)\n",
    "\n",
    "bfs([root], 3, '')\n",
    "invert(root)\n",
    "bfs([root], 3, '')"
   ]
  },
  {
   "cell_type": "code",
   "execution_count": 31,
   "metadata": {},
   "outputs": [
    {
     "name": "stdout",
     "output_type": "stream",
     "text": [
      "1,2\n"
     ]
    }
   ],
   "source": [
    "a = [1,2]\n",
    "print(','.join(str(v) for v in a))"
   ]
  },
  {
   "cell_type": "code",
   "execution_count": null,
   "metadata": {},
   "outputs": [],
   "source": []
  }
 ],
 "metadata": {
  "kernelspec": {
   "display_name": "Python 3",
   "language": "python",
   "name": "python3"
  },
  "language_info": {
   "codemirror_mode": {
    "name": "ipython",
    "version": 3
   },
   "file_extension": ".py",
   "mimetype": "text/x-python",
   "name": "python",
   "nbconvert_exporter": "python",
   "pygments_lexer": "ipython3",
   "version": "3.7.2"
  }
 },
 "nbformat": 4,
 "nbformat_minor": 2
}
